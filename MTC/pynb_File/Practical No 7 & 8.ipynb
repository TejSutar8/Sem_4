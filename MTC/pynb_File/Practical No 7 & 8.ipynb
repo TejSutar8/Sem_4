{
 "cells": [
  {
   "cell_type": "raw",
   "id": "5af7abdb-1e8c-41c4-9466-610cc4d55cb2",
   "metadata": {},
   "source": [
    "Name - Tej Santosh Sutar\n",
    "Roll No. 176\n",
    "std -SY Bsc(CS)\n",
    "Batch - H\n",
    "Date 18/01/2025\n",
    "Practical 7 & 8: Study of Graphical aspects of Three dimensional transformation\n",
    "matrix using matplotlib"
   ]
  },
  {
   "cell_type": "raw",
   "id": "d72a7478-3363-4da7-b7f9-a82331722634",
   "metadata": {},
   "source": [
    "SECTION A"
   ]
  },
  {
   "cell_type": "raw",
   "id": "8cf87d5d-6502-47bf-bf97-600c1c3a378c",
   "metadata": {},
   "source": [
    "1) Write a Python program to draw a polygon with vertices (0,0),(2,0),(2,3) and (1,6) and rotate it by \n",
    "180◦."
   ]
  },
  {
   "cell_type": "code",
   "execution_count": 14,
   "id": "847db71a-cc4f-4cb0-b46e-70123f2fd0dd",
   "metadata": {},
   "outputs": [
    {
     "data": {
      "image/svg+xml": [
       "<svg xmlns=\"http://www.w3.org/2000/svg\"\n",
       "            xmlns:xlink=\"http://www.w3.org/1999/xlink\"\n",
       "            width=\"100.0\" height=\"100.0\" viewBox=\"-2.60000000000000 -6.60000000000000 3.20000000000000 7.20000000000000\"\n",
       "            preserveAspectRatio=\"xMinYMin meet\">\n",
       "            <defs>\n",
       "                <marker id=\"markerCircle\" markerWidth=\"8\" markerHeight=\"8\"\n",
       "                    refx=\"5\" refy=\"5\" markerUnits=\"strokeWidth\">\n",
       "                    <circle cx=\"5\" cy=\"5\" r=\"1.5\" style=\"stroke: none; fill:#000000;\"/>\n",
       "                </marker>\n",
       "                <marker id=\"markerArrow\" markerWidth=\"13\" markerHeight=\"13\" refx=\"2\" refy=\"4\"\n",
       "                       orient=\"auto\" markerUnits=\"strokeWidth\">\n",
       "                    <path d=\"M2,2 L2,6 L6,4\" style=\"fill: #000000;\" />\n",
       "                </marker>\n",
       "                <marker id=\"markerReverseArrow\" markerWidth=\"13\" markerHeight=\"13\" refx=\"6\" refy=\"4\"\n",
       "                       orient=\"auto\" markerUnits=\"strokeWidth\">\n",
       "                    <path d=\"M6,2 L6,6 L2,4\" style=\"fill: #000000;\" />\n",
       "                </marker>\n",
       "            </defs><g transform=\"matrix(1,0,0,-1,0,-6.00000000000000)\"><path fill-rule=\"evenodd\" fill=\"#66cc99\" stroke=\"#555555\" stroke-width=\"0.144000000000000\" opacity=\"0.6\" d=\"M 0,0 L -2.00000000000000,0 L -2.00000000000000,-3.00000000000000 L -1.00000000000000,-6.00000000000000 z\" /></g></svg>"
      ],
      "text/latex": [
       "$\\displaystyle \\operatorname{Polygon}\\left(\\operatorname{Point2D}\\left(0, 0\\right), \\operatorname{Point2D}\\left(-2, 0\\right), \\operatorname{Point2D}\\left(-2, -3\\right), \\operatorname{Point2D}\\left(-1, -6\\right)\\right)$"
      ],
      "text/plain": [
       "Polygon(Point2D(0, 0), Point2D(-2, 0), Point2D(-2, -3), Point2D(-1, -6))"
      ]
     },
     "execution_count": 14,
     "metadata": {},
     "output_type": "execute_result"
    }
   ],
   "source": [
    "from sympy import*\n",
    "A=Point(0,0)\n",
    "B=Point(2,0)\n",
    "C=Point(2,3)\n",
    "D=Point(1,6)\n",
    "P=Polygon(A,B,C,D)\n",
    "P.rotate(pi)"
   ]
  },
  {
   "cell_type": "raw",
   "id": "1ef6f8de-838e-4dd7-a3b5-40f60cbe7652",
   "metadata": {},
   "source": [
    "2) Using sympy declare the points A(0,2),B(5,2),C(3,0) check whether these points are collinear. Declare \n",
    "the line passing through the points A and B, find the distance of this line from point C."
   ]
  },
  {
   "cell_type": "code",
   "execution_count": 20,
   "id": "2cd1401d-d24f-421d-8f6d-ed40ba67f840",
   "metadata": {},
   "outputs": [
    {
     "data": {
      "text/plain": [
       "False"
      ]
     },
     "execution_count": 20,
     "metadata": {},
     "output_type": "execute_result"
    }
   ],
   "source": [
    "from sympy import*\n",
    "A=Point(0,2)\n",
    "B=Point(5,2)\n",
    "C=Point(3,0)\n",
    "Point.is_collinear(A,B,C)"
   ]
  },
  {
   "cell_type": "code",
   "execution_count": 22,
   "id": "73d95d68-97a8-4fa6-9355-a3d19f6b640f",
   "metadata": {},
   "outputs": [
    {
     "data": {
      "text/latex": [
       "$\\displaystyle y - 2$"
      ],
      "text/plain": [
       "y - 2"
      ]
     },
     "execution_count": 22,
     "metadata": {},
     "output_type": "execute_result"
    }
   ],
   "source": [
    "A=Point(0,2)\n",
    "B=Point(5,2)\n",
    "L=Line(A,B)\n",
    "L.equation()"
   ]
  },
  {
   "cell_type": "code",
   "execution_count": 24,
   "id": "79f27467-0205-499d-b96e-741899e159ed",
   "metadata": {},
   "outputs": [
    {
     "data": {
      "text/latex": [
       "$\\displaystyle 2$"
      ],
      "text/plain": [
       "2"
      ]
     },
     "execution_count": 24,
     "metadata": {},
     "output_type": "execute_result"
    }
   ],
   "source": [
    "C=Point(3,0)\n",
    "L.distance(C)"
   ]
  },
  {
   "cell_type": "raw",
   "id": "324f100e-a783-44c9-afeb-f3aca606702f",
   "metadata": {},
   "source": [
    "3) If the line with points A[2,1],B[4,−1] is transformed by the transformation matrix \n",
    "[T] =[1 2]\n",
    "     [2 1],then using python, find the equation of transformed line. "
   ]
  },
  {
   "cell_type": "code",
   "execution_count": 26,
   "id": "1af25738-b111-418c-8721-adb47ca16d91",
   "metadata": {},
   "outputs": [
    {
     "data": {
      "text/latex": [
       "$\\displaystyle - 2 x - 2 y + 18$"
      ],
      "text/plain": [
       "-2*x - 2*y + 18"
      ]
     },
     "execution_count": 26,
     "metadata": {},
     "output_type": "execute_result"
    }
   ],
   "source": [
    "from sympy import*\n",
    "A=Point(2,1);B=Point(4,-1)\n",
    "A1=A.transform(Matrix([[1,2,0],[2,1,0],[0,0,1]]))\n",
    "B1=B.transform(Matrix([[1,2,0],[2,1,0],[0,0,1]]))\n",
    "L=Line(A1,B1)\n",
    "L.equation()"
   ]
  },
  {
   "cell_type": "raw",
   "id": "53aaaf3c-abb0-4d49-b5a0-f27d34069d9a",
   "metadata": {},
   "source": [
    "4) Write a python program to drawn a polygon with vertices (0,0),(1,0),(2,2),(1,4) and find its area and \n",
    "perimeter."
   ]
  },
  {
   "cell_type": "code",
   "execution_count": 28,
   "id": "d104882a-a6e0-4745-b0fa-111a4aa080c0",
   "metadata": {},
   "outputs": [
    {
     "data": {
      "text/latex": [
       "$\\displaystyle \\frac{15}{2}$"
      ],
      "text/plain": [
       "15/2"
      ]
     },
     "execution_count": 28,
     "metadata": {},
     "output_type": "execute_result"
    }
   ],
   "source": [
    "from sympy import*\n",
    "A,B,C,D=[(0,0),(1,0),(2,2),(1,4)]\n",
    "p=Polygon(A,B,C,D)\n",
    "P.area"
   ]
  },
  {
   "cell_type": "code",
   "execution_count": 30,
   "id": "0c77d6ac-76ad-480a-9aae-f690db919c18",
   "metadata": {},
   "outputs": [
    {
     "data": {
      "text/latex": [
       "$\\displaystyle \\sqrt{10} + 5 + \\sqrt{37}$"
      ],
      "text/plain": [
       "sqrt(10) + 5 + sqrt(37)"
      ]
     },
     "execution_count": 30,
     "metadata": {},
     "output_type": "execute_result"
    }
   ],
   "source": [
    "P.perimeter"
   ]
  },
  {
   "cell_type": "raw",
   "id": "d7c66709-d585-43eb-b5bc-55915188adcb",
   "metadata": {},
   "source": [
    " 5) Write a python program to plot triangle with vertices [3,3],[5,6],[5,2], and its rotation about the origin \n",
    "by angle −π radians."
   ]
  },
  {
   "cell_type": "code",
   "execution_count": 32,
   "id": "33e3674a-9d2b-46b3-b483-b9b833d3702f",
   "metadata": {},
   "outputs": [
    {
     "data": {
      "image/svg+xml": [
       "<svg xmlns=\"http://www.w3.org/2000/svg\"\n",
       "            xmlns:xlink=\"http://www.w3.org/1999/xlink\"\n",
       "            width=\"100.0\" height=\"100.0\" viewBox=\"2.60000000000000 1.60000000000000 2.80000000000000 4.80000000000000\"\n",
       "            preserveAspectRatio=\"xMinYMin meet\">\n",
       "            <defs>\n",
       "                <marker id=\"markerCircle\" markerWidth=\"8\" markerHeight=\"8\"\n",
       "                    refx=\"5\" refy=\"5\" markerUnits=\"strokeWidth\">\n",
       "                    <circle cx=\"5\" cy=\"5\" r=\"1.5\" style=\"stroke: none; fill:#000000;\"/>\n",
       "                </marker>\n",
       "                <marker id=\"markerArrow\" markerWidth=\"13\" markerHeight=\"13\" refx=\"2\" refy=\"4\"\n",
       "                       orient=\"auto\" markerUnits=\"strokeWidth\">\n",
       "                    <path d=\"M2,2 L2,6 L6,4\" style=\"fill: #000000;\" />\n",
       "                </marker>\n",
       "                <marker id=\"markerReverseArrow\" markerWidth=\"13\" markerHeight=\"13\" refx=\"6\" refy=\"4\"\n",
       "                       orient=\"auto\" markerUnits=\"strokeWidth\">\n",
       "                    <path d=\"M6,2 L6,6 L2,4\" style=\"fill: #000000;\" />\n",
       "                </marker>\n",
       "            </defs><g transform=\"matrix(1,0,0,-1,0,8.00000000000000)\"><path fill-rule=\"evenodd\" fill=\"#66cc99\" stroke=\"#555555\" stroke-width=\"0.0960000000000000\" opacity=\"0.6\" d=\"M 3.00000000000000,3.00000000000000 L 5.00000000000000,6.00000000000000 L 5.00000000000000,2.00000000000000 z\" /></g></svg>"
      ],
      "text/latex": [
       "$\\displaystyle \\operatorname{Triangle}\\left(\\operatorname{Point2D}\\left(3, 3\\right), \\operatorname{Point2D}\\left(5, 6\\right), \\operatorname{Point2D}\\left(5, 2\\right)\\right)$"
      ],
      "text/plain": [
       "Triangle(Point2D(3, 3), Point2D(5, 6), Point2D(5, 2))"
      ]
     },
     "execution_count": 32,
     "metadata": {},
     "output_type": "execute_result"
    }
   ],
   "source": [
    "from sympy import*\n",
    "A,B,C=[(3,3),(5,6),(5,2)]\n",
    "T=Triangle(A,B,C)\n",
    "T"
   ]
  },
  {
   "cell_type": "code",
   "execution_count": 34,
   "id": "a307a71d-d4c7-4464-91ce-a644be5be64b",
   "metadata": {},
   "outputs": [
    {
     "data": {
      "image/svg+xml": [
       "<svg xmlns=\"http://www.w3.org/2000/svg\"\n",
       "            xmlns:xlink=\"http://www.w3.org/1999/xlink\"\n",
       "            width=\"100.0\" height=\"100.0\" viewBox=\"-5.40000000000000 -6.40000000000000 2.80000000000000 4.80000000000000\"\n",
       "            preserveAspectRatio=\"xMinYMin meet\">\n",
       "            <defs>\n",
       "                <marker id=\"markerCircle\" markerWidth=\"8\" markerHeight=\"8\"\n",
       "                    refx=\"5\" refy=\"5\" markerUnits=\"strokeWidth\">\n",
       "                    <circle cx=\"5\" cy=\"5\" r=\"1.5\" style=\"stroke: none; fill:#000000;\"/>\n",
       "                </marker>\n",
       "                <marker id=\"markerArrow\" markerWidth=\"13\" markerHeight=\"13\" refx=\"2\" refy=\"4\"\n",
       "                       orient=\"auto\" markerUnits=\"strokeWidth\">\n",
       "                    <path d=\"M2,2 L2,6 L6,4\" style=\"fill: #000000;\" />\n",
       "                </marker>\n",
       "                <marker id=\"markerReverseArrow\" markerWidth=\"13\" markerHeight=\"13\" refx=\"6\" refy=\"4\"\n",
       "                       orient=\"auto\" markerUnits=\"strokeWidth\">\n",
       "                    <path d=\"M6,2 L6,6 L2,4\" style=\"fill: #000000;\" />\n",
       "                </marker>\n",
       "            </defs><g transform=\"matrix(1,0,0,-1,0,-8.00000000000000)\"><path fill-rule=\"evenodd\" fill=\"#66cc99\" stroke=\"#555555\" stroke-width=\"0.0960000000000000\" opacity=\"0.6\" d=\"M -3.00000000000000,-3.00000000000000 L -5.00000000000000,-6.00000000000000 L -5.00000000000000,-2.00000000000000 z\" /></g></svg>"
      ],
      "text/latex": [
       "$\\displaystyle \\operatorname{Triangle}\\left(\\operatorname{Point2D}\\left(-3, -3\\right), \\operatorname{Point2D}\\left(-5, -6\\right), \\operatorname{Point2D}\\left(-5, -2\\right)\\right)$"
      ],
      "text/plain": [
       "Triangle(Point2D(-3, -3), Point2D(-5, -6), Point2D(-5, -2))"
      ]
     },
     "execution_count": 34,
     "metadata": {},
     "output_type": "execute_result"
    }
   ],
   "source": [
    " T.rotate(-pi)"
   ]
  },
  {
   "cell_type": "code",
   "execution_count": null,
   "id": "c4cc1e32-1b15-4593-ad5a-3900da57df53",
   "metadata": {},
   "outputs": [],
   "source": []
  }
 ],
 "metadata": {
  "kernelspec": {
   "display_name": "Python 3 (ipykernel)",
   "language": "python",
   "name": "python3"
  },
  "language_info": {
   "codemirror_mode": {
    "name": "ipython",
    "version": 3
   },
   "file_extension": ".py",
   "mimetype": "text/x-python",
   "name": "python",
   "nbconvert_exporter": "python",
   "pygments_lexer": "ipython3",
   "version": "3.12.4"
  }
 },
 "nbformat": 4,
 "nbformat_minor": 5
}
