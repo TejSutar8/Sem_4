{
 "cells": [
  {
   "cell_type": "raw",
   "id": "c1214380-8c60-4fab-ac6b-8031b77969e5",
   "metadata": {},
   "source": [
    "Name - Tej Santosh Sutar\n",
    "Roll No. 176\n",
    "std -SY Bsc(CS)\n",
    "Batch - H\n",
    "Date 11/01/2025\n",
    "Practical 3 & 4 : Application of Computational Geometry"
   ]
  },
  {
   "cell_type": "raw",
   "id": "3396038c-dc07-4387-bfeb-f6980dad19e8",
   "metadata": {},
   "source": [
    "1)\tApply Python program in each of the following transformations on the point P[3,−1] "
   ]
  },
  {
   "cell_type": "code",
   "execution_count": null,
   "id": "d8ffb422-adda-4a93-b4e6-c5b1d2571533",
   "metadata": {},
   "outputs": [],
   "source": [
    "(I)\tRefection through X−axis."
   ]
  },
  {
   "cell_type": "code",
   "execution_count": 1,
   "id": "7b51a047-33be-4335-81c2-d985c3dc883d",
   "metadata": {},
   "outputs": [
    {
     "data": {
      "text/latex": [
       "$\\displaystyle \\operatorname{Point2D}\\left(3, 1\\right)$"
      ],
      "text/plain": [
       "Point2D(3, 1)"
      ]
     },
     "execution_count": 1,
     "metadata": {},
     "output_type": "execute_result"
    }
   ],
   "source": [
    "from sympy import*\n",
    "P=Point(3,-1)\n",
    "P.transform(Matrix([[1,0,0],[0,-1,0],[0,0,1]]))"
   ]
  },
  {
   "cell_type": "raw",
   "id": "1ac72e6b-c8ea-4ea3-b1c0-ecdbfc43d403",
   "metadata": {},
   "source": [
    "(II)Scaling in X−coordinate by factor 2. "
   ]
  },
  {
   "cell_type": "code",
   "execution_count": 2,
   "id": "eebde3b7-81de-4f42-a504-eec7adff3c72",
   "metadata": {},
   "outputs": [
    {
     "data": {
      "text/latex": [
       "$\\displaystyle \\operatorname{Point2D}\\left(6, 0\\right)$"
      ],
      "text/plain": [
       "Point2D(6, 0)"
      ]
     },
     "execution_count": 2,
     "metadata": {},
     "output_type": "execute_result"
    }
   ],
   "source": [
    "P.scale(2,0)"
   ]
  },
  {
   "cell_type": "raw",
   "id": "e817715d-bb27-4a7f-a703-894d0336fb6b",
   "metadata": {},
   "source": [
    "(III)Scaling in Y−coordinate by factor 1.5. "
   ]
  },
  {
   "cell_type": "code",
   "execution_count": 3,
   "id": "f6f98afb-5d88-49ce-8879-44395b4bf020",
   "metadata": {},
   "outputs": [
    {
     "data": {
      "text/latex": [
       "$\\displaystyle \\operatorname{Point2D}\\left(0, - \\frac{3}{2}\\right)$"
      ],
      "text/plain": [
       "Point2D(0, -3/2)"
      ]
     },
     "execution_count": 3,
     "metadata": {},
     "output_type": "execute_result"
    }
   ],
   "source": [
    "P.scale(0,1.5)"
   ]
  },
  {
   "cell_type": "raw",
   "id": "7b58f94b-e320-452a-8585-5bc5d945a856",
   "metadata": {},
   "source": [
    "(IV)Reflection through the line y = x. "
   ]
  },
  {
   "cell_type": "code",
   "execution_count": 5,
   "id": "97707b41-e98c-4a9d-b05d-75cdc8450fbb",
   "metadata": {},
   "outputs": [
    {
     "data": {
      "text/latex": [
       "$\\displaystyle \\operatorname{Point2D}\\left(0, - \\frac{3}{2}\\right)$"
      ],
      "text/plain": [
       "Point2D(0, -3/2)"
      ]
     },
     "execution_count": 5,
     "metadata": {},
     "output_type": "execute_result"
    }
   ],
   "source": [
    "P.scale(0,3/2)"
   ]
  },
  {
   "cell_type": "raw",
   "id": "8835bb03-014b-4a6c-be85-c4eb35c58ad9",
   "metadata": {},
   "source": [
    "2)\tApply Python program in each of the following transformations on the point P[3,8] "
   ]
  },
  {
   "cell_type": "raw",
   "id": "74e1eb38-8f2e-4cd8-a719-aff473852e13",
   "metadata": {},
   "source": [
    "(I)\tRefection through X−axis."
   ]
  },
  {
   "cell_type": "code",
   "execution_count": 6,
   "id": "c1e5fe20-b80e-4ea7-b946-3b1e9fc87166",
   "metadata": {},
   "outputs": [
    {
     "data": {
      "text/latex": [
       "$\\displaystyle \\operatorname{Point2D}\\left(3, -8\\right)$"
      ],
      "text/plain": [
       "Point2D(3, -8)"
      ]
     },
     "execution_count": 6,
     "metadata": {},
     "output_type": "execute_result"
    }
   ],
   "source": [
    "from sympy import*\n",
    "P=Point(3,8)\n",
    "P.transform(Matrix([[1,0,0],[0,-1,0],[0,0,1]]))"
   ]
  },
  {
   "cell_type": "raw",
   "id": "e2009cee-e140-43f6-addd-c28caade099b",
   "metadata": {},
   "source": [
    "(II)Scaling in X−coordinate by factor 6. "
   ]
  },
  {
   "cell_type": "code",
   "execution_count": 7,
   "id": "c097bb8a-d9ce-43e5-a17c-ddd4373f9973",
   "metadata": {},
   "outputs": [
    {
     "data": {
      "text/latex": [
       "$\\displaystyle \\operatorname{Point2D}\\left(18, 0\\right)$"
      ],
      "text/plain": [
       "Point2D(18, 0)"
      ]
     },
     "execution_count": 7,
     "metadata": {},
     "output_type": "execute_result"
    }
   ],
   "source": [
    "P.scale(6,0)"
   ]
  },
  {
   "cell_type": "raw",
   "id": "4bec562a-8504-4c33-820b-b15698f386f4",
   "metadata": {},
   "source": [
    "(III)Rotation about origin through an angle 30◦. "
   ]
  },
  {
   "cell_type": "code",
   "execution_count": 8,
   "id": "654df07a-f79c-4a13-b1d4-5a669b58bb81",
   "metadata": {},
   "outputs": [
    {
     "data": {
      "text/latex": [
       "$\\displaystyle \\operatorname{Point2D}\\left(-4 + \\frac{3 \\sqrt{3}}{2}, \\frac{3}{2} + 4 \\sqrt{3}\\right)$"
      ],
      "text/plain": [
       "Point2D(-4 + 3*sqrt(3)/2, 3/2 + 4*sqrt(3))"
      ]
     },
     "execution_count": 8,
     "metadata": {},
     "output_type": "execute_result"
    }
   ],
   "source": [
    "P.rotate(pi/6)"
   ]
  },
  {
   "cell_type": "raw",
   "id": "1647ccda-8816-4e98-b7ef-86c257fb63b7",
   "metadata": {},
   "source": [
    "(IV)Reflection through the line y = −x."
   ]
  },
  {
   "cell_type": "code",
   "execution_count": 9,
   "id": "899ebed8-f425-4831-8470-8d2e8605ef8c",
   "metadata": {},
   "outputs": [
    {
     "data": {
      "text/latex": [
       "$\\displaystyle \\operatorname{Point2D}\\left(-8, -3\\right)$"
      ],
      "text/plain": [
       "Point2D(-8, -3)"
      ]
     },
     "execution_count": 9,
     "metadata": {},
     "output_type": "execute_result"
    }
   ],
   "source": [
    "x,y=symbols('x y')\n",
    "P.reflect(Line(y+x))"
   ]
  },
  {
   "cell_type": "raw",
   "id": "0aad8865-7fd1-4740-9d60-9b5a720c3931",
   "metadata": {},
   "source": [
    "3)\tWrite a python program to apply the following transformations on the point (−2,4) :"
   ]
  },
  {
   "cell_type": "code",
   "execution_count": null,
   "id": "7e99bca7-72ac-4f3f-b765-bf4a3b2f436d",
   "metadata": {},
   "outputs": [],
   "source": [
    "(I)Shearing in Y direction by 7 units."
   ]
  },
  {
   "cell_type": "code",
   "execution_count": 10,
   "id": "42a7429d-bd50-461a-9ab6-8cdcc059438d",
   "metadata": {},
   "outputs": [
    {
     "data": {
      "text/latex": [
       "$\\displaystyle \\operatorname{Point2D}\\left(-2, -10\\right)$"
      ],
      "text/plain": [
       "Point2D(-2, -10)"
      ]
     },
     "execution_count": 10,
     "metadata": {},
     "output_type": "execute_result"
    }
   ],
   "source": [
    "from sympy import*\n",
    "P=Point(-2,4)\n",
    "P.transform(Matrix([[1,7,0],[0,1,0],[0,0,1]]))"
   ]
  },
  {
   "cell_type": "raw",
   "id": "9e4591b0-37d3-4410-9280-40b449db3724",
   "metadata": {},
   "source": [
    "(II)Scaling in X and Y direction by 7/2 and 7 units respectively."
   ]
  },
  {
   "cell_type": "code",
   "execution_count": 12,
   "id": "f0b83e16-dd0f-4eb1-9209-bd091dd1632a",
   "metadata": {},
   "outputs": [
    {
     "data": {
      "text/latex": [
       "$\\displaystyle \\operatorname{Point2D}\\left(-7, 8\\right)$"
      ],
      "text/plain": [
       "Point2D(-7, 8)"
      ]
     },
     "execution_count": 12,
     "metadata": {},
     "output_type": "execute_result"
    }
   ],
   "source": [
    "P.scale(7/2,2)"
   ]
  },
  {
   "cell_type": "code",
   "execution_count": null,
   "id": "5a2ee457-e572-4498-ba15-3f95493abf02",
   "metadata": {},
   "outputs": [],
   "source": [
    "(III)Shearing in X and Y direction by 4 and 7 units respectively. "
   ]
  },
  {
   "cell_type": "code",
   "execution_count": 13,
   "id": "3869c353-9f12-47ba-9ee3-b461aeac2626",
   "metadata": {},
   "outputs": [
    {
     "data": {
      "text/latex": [
       "$\\displaystyle \\operatorname{Point2D}\\left(14, -10\\right)$"
      ],
      "text/plain": [
       "Point2D(14, -10)"
      ]
     },
     "execution_count": 13,
     "metadata": {},
     "output_type": "execute_result"
    }
   ],
   "source": [
    "P.transform(Matrix([[1,7,0],[4,1,0],[0,0,1]]))"
   ]
  },
  {
   "cell_type": "code",
   "execution_count": null,
   "id": "16cd8327-c31d-440b-85d4-39c4debcb015",
   "metadata": {},
   "outputs": [],
   "source": [
    "(IV)Rotation about origin by an angle 60◦."
   ]
  },
  {
   "cell_type": "code",
   "execution_count": 14,
   "id": "cc2c1a36-b7c4-4f10-b2de-07d107ba47e0",
   "metadata": {},
   "outputs": [
    {
     "data": {
      "text/latex": [
       "$\\displaystyle \\operatorname{Point2D}\\left(- 2 \\sqrt{3} - 1, 2 - \\sqrt{3}\\right)$"
      ],
      "text/plain": [
       "Point2D(-2*sqrt(3) - 1, 2 - sqrt(3))"
      ]
     },
     "execution_count": 14,
     "metadata": {},
     "output_type": "execute_result"
    }
   ],
   "source": [
    "P.rotate(pi/3)"
   ]
  },
  {
   "cell_type": "raw",
   "id": "065ae3bf-6b15-460f-b644-b4c7042b84a4",
   "metadata": {},
   "source": [
    "4)Write a python program to draw polygon with vertices [3,3],[4,6],[5,4],[4,2] and [2,2], and its translation in x and y direction by factors -2 and 1 respectively."
   ]
  },
  {
   "cell_type": "code",
   "execution_count": 15,
   "id": "5bebbed7-a75a-4398-8db8-85460531eeda",
   "metadata": {},
   "outputs": [
    {
     "data": {
      "image/svg+xml": [
       "<svg xmlns=\"http://www.w3.org/2000/svg\"\n",
       "            xmlns:xlink=\"http://www.w3.org/1999/xlink\"\n",
       "            width=\"100.0\" height=\"100.0\" viewBox=\"-0.400000000000000 2.60000000000000 3.80000000000000 4.80000000000000\"\n",
       "            preserveAspectRatio=\"xMinYMin meet\">\n",
       "            <defs>\n",
       "                <marker id=\"markerCircle\" markerWidth=\"8\" markerHeight=\"8\"\n",
       "                    refx=\"5\" refy=\"5\" markerUnits=\"strokeWidth\">\n",
       "                    <circle cx=\"5\" cy=\"5\" r=\"1.5\" style=\"stroke: none; fill:#000000;\"/>\n",
       "                </marker>\n",
       "                <marker id=\"markerArrow\" markerWidth=\"13\" markerHeight=\"13\" refx=\"2\" refy=\"4\"\n",
       "                       orient=\"auto\" markerUnits=\"strokeWidth\">\n",
       "                    <path d=\"M2,2 L2,6 L6,4\" style=\"fill: #000000;\" />\n",
       "                </marker>\n",
       "                <marker id=\"markerReverseArrow\" markerWidth=\"13\" markerHeight=\"13\" refx=\"6\" refy=\"4\"\n",
       "                       orient=\"auto\" markerUnits=\"strokeWidth\">\n",
       "                    <path d=\"M6,2 L6,6 L2,4\" style=\"fill: #000000;\" />\n",
       "                </marker>\n",
       "            </defs><g transform=\"matrix(1,0,0,-1,0,10.0000000000000)\"><path fill-rule=\"evenodd\" fill=\"#66cc99\" stroke=\"#555555\" stroke-width=\"0.0960000000000000\" opacity=\"0.6\" d=\"M 1.00000000000000,4.00000000000000 L 2.00000000000000,7.00000000000000 L 3.00000000000000,5.00000000000000 L 2.00000000000000,3.00000000000000 L 0,3.00000000000000 z\" /></g></svg>"
      ],
      "text/latex": [
       "$\\displaystyle \\operatorname{Polygon}\\left(\\operatorname{Point2D}\\left(1, 4\\right), \\operatorname{Point2D}\\left(2, 7\\right), \\operatorname{Point2D}\\left(3, 5\\right), \\operatorname{Point2D}\\left(2, 3\\right), \\operatorname{Point2D}\\left(0, 3\\right)\\right)$"
      ],
      "text/plain": [
       "Polygon(Point2D(1, 4), Point2D(2, 7), Point2D(3, 5), Point2D(2, 3), Point2D(0, 3))"
      ]
     },
     "execution_count": 15,
     "metadata": {},
     "output_type": "execute_result"
    }
   ],
   "source": [
    "from sympy import*\n",
    "A = Point(3,3)\n",
    "B = Point(4,6)\n",
    "C = Point(5,4)\n",
    "D = Point(4,2)\n",
    "E = Point(2,2)\n",
    "P = Polygon(A,B,C,D,E)\n",
    "P.translate(-2,1)"
   ]
  },
  {
   "cell_type": "raw",
   "id": "9172b6f4-5a70-44f9-8cd7-81e3827fc56e",
   "metadata": {},
   "source": [
    "5)\tPlot 3D axes with labels as x−axis and z−axis and also plot following points with given coordinates in one graph. \n",
    "(I)\t(70,−25,15) as a diamond in black colour, \n",
    "(II)\t(50,72,−45) as a ∗ in green colour, \n",
    "(III)\t(58,−82,65) as a dot in green colour, \n",
    "(IV)\t (20,72,−45) as a ∗ in Red colour. "
   ]
  },
  {
   "cell_type": "code",
   "execution_count": 26,
   "id": "ee70e96f-04c5-467c-b422-848f7a526a51",
   "metadata": {},
   "outputs": [
    {
     "data": {
      "image/png": "[encoded data removed]",
      "text/plain": [
       "<Figure size 400x400 with 1 Axes>"
      ]
     },
     "metadata": {},
     "output_type": "display_data"
    }
   ],
   "source": [
    "from mpl_toolkits import mplot3d\n",
    "import matplotlib.pyplot as plt\n",
    "import numpy as np\n",
    "fig=plt.figure(figsize=(4,4))\n",
    "ax=fig.add_subplot(111,projection='3d')\n",
    "ax.scatter(70,-25,15,c='k',marker='*')\n",
    "ax.scatter(50,72,-45,c='g',marker='*')\n",
    "ax.scatter(58,-82,65,c='g',marker='*')\n",
    "ax.scatter(20,72,-45,c='r',marker='*')\n",
    "plt.show()"
   ]
  },
  {
   "cell_type": "code",
   "execution_count": null,
   "id": "01ee3fde-ebb1-46f7-9617-f5c73b50bf37",
   "metadata": {},
   "outputs": [],
   "source": [
    "6)\tFind the combined transformation of the line segment between the points A[5,−2] & B[4,3] by using Python program for the following sequence of transformations:\n",
    "(I)\tRotation about origin through an angle π. \n",
    "(II)\t Scaling in X− coordinate by 2 units.\n",
    "(III)\tReflection through the line y = −x. \n",
    "(IV)\tShearing in X direction by 4 units.\n"
   ]
  },
  {
   "cell_type": "code",
   "execution_count": 27,
   "id": "4bdfefc5-30df-4e70-a4aa-16bbaccf0060",
   "metadata": {},
   "outputs": [
    {
     "data": {
      "image/svg+xml": [
       "<svg xmlns=\"http://www.w3.org/2000/svg\"\n",
       "            xmlns:xlink=\"http://www.w3.org/1999/xlink\"\n",
       "            width=\"100.0\" height=\"100.0\" viewBox=\"-5.50000000000000 -3.50000000000000 2.00000000000000 6.00000000000000\"\n",
       "            preserveAspectRatio=\"xMinYMin meet\">\n",
       "            <defs>\n",
       "                <marker id=\"markerCircle\" markerWidth=\"8\" markerHeight=\"8\"\n",
       "                    refx=\"5\" refy=\"5\" markerUnits=\"strokeWidth\">\n",
       "                    <circle cx=\"5\" cy=\"5\" r=\"1.5\" style=\"stroke: none; fill:#000000;\"/>\n",
       "                </marker>\n",
       "                <marker id=\"markerArrow\" markerWidth=\"13\" markerHeight=\"13\" refx=\"2\" refy=\"4\"\n",
       "                       orient=\"auto\" markerUnits=\"strokeWidth\">\n",
       "                    <path d=\"M2,2 L2,6 L6,4\" style=\"fill: #000000;\" />\n",
       "                </marker>\n",
       "                <marker id=\"markerReverseArrow\" markerWidth=\"13\" markerHeight=\"13\" refx=\"6\" refy=\"4\"\n",
       "                       orient=\"auto\" markerUnits=\"strokeWidth\">\n",
       "                    <path d=\"M6,2 L6,6 L2,4\" style=\"fill: #000000;\" />\n",
       "                </marker>\n",
       "            </defs><g transform=\"matrix(1,0,0,-1,0,-1.00000000000000)\"><path fill-rule=\"evenodd\" fill=\"#66cc99\" stroke=\"#555555\" stroke-width=\"0.120000000000000\" opacity=\"0.6\" d=\"M -5.00000000000000,2.00000000000000 L -4.00000000000000,-3.00000000000000\" /></g></svg>"
      ],
      "text/latex": [
       "$\\displaystyle \\operatorname{Segment2D}\\left(\\operatorname{Point2D}\\left(-5, 2\\right), \\operatorname{Point2D}\\left(-4, -3\\right)\\right)$"
      ],
      "text/plain": [
       "Segment2D(Point2D(-5, 2), Point2D(-4, -3))"
      ]
     },
     "execution_count": 27,
     "metadata": {},
     "output_type": "execute_result"
    }
   ],
   "source": [
    "from sympy import*\n",
    "A=Point(5,-2)\n",
    "B=Point(4,3)\n",
    "s=Segment (A,B)\n",
    "s1=s.rotate(pi)\n",
    "s1"
   ]
  },
  {
   "cell_type": "code",
   "execution_count": 28,
   "id": "5ed23685-9d96-40b7-8421-feb6383e6480",
   "metadata": {},
   "outputs": [
    {
     "data": {
      "image/svg+xml": [
       "<svg xmlns=\"http://www.w3.org/2000/svg\"\n",
       "            xmlns:xlink=\"http://www.w3.org/1999/xlink\"\n",
       "            width=\"100.0\" height=\"100.0\" viewBox=\"-10.2000000000000 -0.200000000000000 2.40000000000000 0.400000000000000\"\n",
       "            preserveAspectRatio=\"xMinYMin meet\">\n",
       "            <defs>\n",
       "                <marker id=\"markerCircle\" markerWidth=\"8\" markerHeight=\"8\"\n",
       "                    refx=\"5\" refy=\"5\" markerUnits=\"strokeWidth\">\n",
       "                    <circle cx=\"5\" cy=\"5\" r=\"1.5\" style=\"stroke: none; fill:#000000;\"/>\n",
       "                </marker>\n",
       "                <marker id=\"markerArrow\" markerWidth=\"13\" markerHeight=\"13\" refx=\"2\" refy=\"4\"\n",
       "                       orient=\"auto\" markerUnits=\"strokeWidth\">\n",
       "                    <path d=\"M2,2 L2,6 L6,4\" style=\"fill: #000000;\" />\n",
       "                </marker>\n",
       "                <marker id=\"markerReverseArrow\" markerWidth=\"13\" markerHeight=\"13\" refx=\"6\" refy=\"4\"\n",
       "                       orient=\"auto\" markerUnits=\"strokeWidth\">\n",
       "                    <path d=\"M6,2 L6,6 L2,4\" style=\"fill: #000000;\" />\n",
       "                </marker>\n",
       "            </defs><g transform=\"matrix(1,0,0,-1,0,0)\"><path fill-rule=\"evenodd\" fill=\"#66cc99\" stroke=\"#555555\" stroke-width=\"0.0480000000000000\" opacity=\"0.6\" d=\"M -10.0000000000000,0 L -8.00000000000000,0\" /></g></svg>"
      ],
      "text/latex": [
       "$\\displaystyle \\operatorname{Segment2D}\\left(\\operatorname{Point2D}\\left(-10, 0\\right), \\operatorname{Point2D}\\left(-8, 0\\right)\\right)$"
      ],
      "text/plain": [
       "Segment2D(Point2D(-10, 0), Point2D(-8, 0))"
      ]
     },
     "execution_count": 28,
     "metadata": {},
     "output_type": "execute_result"
    }
   ],
   "source": [
    "s2=s1.scale(2,0)\n",
    "s2"
   ]
  },
  {
   "cell_type": "code",
   "execution_count": 30,
   "id": "83a43cf9-29d8-4629-898c-1af7e132cdeb",
   "metadata": {},
   "outputs": [
    {
     "data": {
      "image/svg+xml": [
       "<svg xmlns=\"http://www.w3.org/2000/svg\"\n",
       "            xmlns:xlink=\"http://www.w3.org/1999/xlink\"\n",
       "            width=\"100.0\" height=\"100.0\" viewBox=\"-0.200000000000000 7.80000000000000 0.400000000000000 2.40000000000000\"\n",
       "            preserveAspectRatio=\"xMinYMin meet\">\n",
       "            <defs>\n",
       "                <marker id=\"markerCircle\" markerWidth=\"8\" markerHeight=\"8\"\n",
       "                    refx=\"5\" refy=\"5\" markerUnits=\"strokeWidth\">\n",
       "                    <circle cx=\"5\" cy=\"5\" r=\"1.5\" style=\"stroke: none; fill:#000000;\"/>\n",
       "                </marker>\n",
       "                <marker id=\"markerArrow\" markerWidth=\"13\" markerHeight=\"13\" refx=\"2\" refy=\"4\"\n",
       "                       orient=\"auto\" markerUnits=\"strokeWidth\">\n",
       "                    <path d=\"M2,2 L2,6 L6,4\" style=\"fill: #000000;\" />\n",
       "                </marker>\n",
       "                <marker id=\"markerReverseArrow\" markerWidth=\"13\" markerHeight=\"13\" refx=\"6\" refy=\"4\"\n",
       "                       orient=\"auto\" markerUnits=\"strokeWidth\">\n",
       "                    <path d=\"M6,2 L6,6 L2,4\" style=\"fill: #000000;\" />\n",
       "                </marker>\n",
       "            </defs><g transform=\"matrix(1,0,0,-1,0,18.0000000000000)\"><path fill-rule=\"evenodd\" fill=\"#66cc99\" stroke=\"#555555\" stroke-width=\"0.0480000000000000\" opacity=\"0.6\" d=\"M 0,10.0000000000000 L 0,8.00000000000000\" /></g></svg>"
      ],
      "text/latex": [
       "$\\displaystyle \\operatorname{Segment2D}\\left(\\operatorname{Point2D}\\left(0, 10\\right), \\operatorname{Point2D}\\left(0, 8\\right)\\right)$"
      ],
      "text/plain": [
       "Segment2D(Point2D(0, 10), Point2D(0, 8))"
      ]
     },
     "execution_count": 30,
     "metadata": {},
     "output_type": "execute_result"
    }
   ],
   "source": [
    "x,y=symbols('x,y')\n",
    "s3=s2.reflect(Line(x+y))\n",
    "s3"
   ]
  },
  {
   "cell_type": "code",
   "execution_count": 32,
   "id": "1d542101-0bf7-48f0-9a0f-0c9d98292429",
   "metadata": {},
   "outputs": [
    {
     "data": {
      "text/latex": [
       "$\\displaystyle \\operatorname{Point2D}\\left(40, 10\\right)$"
      ],
      "text/plain": [
       "Point2D(40, 10)"
      ]
     },
     "execution_count": 32,
     "metadata": {},
     "output_type": "execute_result"
    }
   ],
   "source": [
    "Points=s3.points\n",
    "p=Points[0]\n",
    "q=Points[1]\n",
    "p1=p.transform(Matrix([[1,0,0],[4,1,0],[0,0,1]]))\n",
    "p1"
   ]
  },
  {
   "cell_type": "code",
   "execution_count": 33,
   "id": "4edda940-f13c-4959-88e8-efb778c4ec88",
   "metadata": {},
   "outputs": [
    {
     "data": {
      "text/latex": [
       "$\\displaystyle \\operatorname{Point2D}\\left(32, 8\\right)$"
      ],
      "text/plain": [
       "Point2D(32, 8)"
      ]
     },
     "execution_count": 33,
     "metadata": {},
     "output_type": "execute_result"
    }
   ],
   "source": [
    "q1=q.transform(Matrix([[1,0,0],[4,1,0],[0,0,1]]))\n",
    "q1"
   ]
  },
  {
   "cell_type": "raw",
   "id": "acfaa593-6814-4f29-ad3b-fc6ca582312d",
   "metadata": {},
   "source": [
    "7)\tFind the combined transformation of the line segment between the points A[4,−1] & B[3,0] by using Python program for the following sequence of transformations:\n",
    "(I)\tShearing in X direction by 9 units.\n",
    "(II)Rotation about origin through an angle π.\n",
    "(III)Scaling in X− coordinate by 2 units. \n",
    "(IV)Reflection through the line y = x.\n"
   ]
  },
  {
   "cell_type": "code",
   "execution_count": 38,
   "id": "de791c17-0e78-4a89-b752-0bd4032cb0bd",
   "metadata": {},
   "outputs": [
    {
     "data": {
      "image/svg+xml": [
       "<svg xmlns=\"http://www.w3.org/2000/svg\"\n",
       "            xmlns:xlink=\"http://www.w3.org/1999/xlink\"\n",
       "            width=\"100.0\" height=\"100.0\" viewBox=\"-1.60000000000000 -7.60000000000000 3.20000000000000 19.2000000000000\"\n",
       "            preserveAspectRatio=\"xMinYMin meet\">\n",
       "            <defs>\n",
       "                <marker id=\"markerCircle\" markerWidth=\"8\" markerHeight=\"8\"\n",
       "                    refx=\"5\" refy=\"5\" markerUnits=\"strokeWidth\">\n",
       "                    <circle cx=\"5\" cy=\"5\" r=\"1.5\" style=\"stroke: none; fill:#000000;\"/>\n",
       "                </marker>\n",
       "                <marker id=\"markerArrow\" markerWidth=\"13\" markerHeight=\"13\" refx=\"2\" refy=\"4\"\n",
       "                       orient=\"auto\" markerUnits=\"strokeWidth\">\n",
       "                    <path d=\"M2,2 L2,6 L6,4\" style=\"fill: #000000;\" />\n",
       "                </marker>\n",
       "                <marker id=\"markerReverseArrow\" markerWidth=\"13\" markerHeight=\"13\" refx=\"6\" refy=\"4\"\n",
       "                       orient=\"auto\" markerUnits=\"strokeWidth\">\n",
       "                    <path d=\"M6,2 L6,6 L2,4\" style=\"fill: #000000;\" />\n",
       "                </marker>\n",
       "            </defs><g transform=\"matrix(1,0,0,-1,0,4.00000000000000)\"><path fill-rule=\"evenodd\" fill=\"#66cc99\" stroke=\"#555555\" stroke-width=\"0.384000000000000\" opacity=\"0.6\" d=\"M 0,10.0000000000000 L 0,-6.00000000000000\" /></g></svg>"
      ],
      "text/latex": [
       "$\\displaystyle \\operatorname{Segment2D}\\left(\\operatorname{Point2D}\\left(0, 10\\right), \\operatorname{Point2D}\\left(0, -6\\right)\\right)$"
      ],
      "text/plain": [
       "Segment2D(Point2D(0, 10), Point2D(0, -6))"
      ]
     },
     "execution_count": 38,
     "metadata": {},
     "output_type": "execute_result"
    }
   ],
   "source": [
    "from sympy import*\n",
    "A=Point(4,-1)\n",
    "B=Point(3,0)\n",
    "s=Segment(A,B)\n",
    "points=s.points\n",
    "p=points[0]\n",
    "q=points[1]\n",
    "p1=p.transform(Matrix([[1,0,0],[9,1,0],[0,0,1]]))\n",
    "q1=q.transform(Matrix([[1,0,0],[9,1,0],[0,0,1]]))\n",
    "s=Segment(p1,q1)\n",
    "s1=s.rotate(pi)\n",
    "s2=s1.scale(2,0)\n",
    "x,y=symbols('x,y')\n",
    "s3=s2.reflect(Line(y-x))\n",
    "s3"
   ]
  }
 ],
 "metadata": {
  "kernelspec": {
   "display_name": "Python 3 (ipykernel)",
   "language": "python",
   "name": "python3"
  },
  "language_info": {
   "codemirror_mode": {
    "name": "ipython",
    "version": 3
   },
   "file_extension": ".py",
   "mimetype": "text/x-python",
   "name": "python",
   "nbconvert_exporter": "python",
   "pygments_lexer": "ipython3",
   "version": "3.11.9"
  }
 },
 "nbformat": 4,
 "nbformat_minor": 5
}
