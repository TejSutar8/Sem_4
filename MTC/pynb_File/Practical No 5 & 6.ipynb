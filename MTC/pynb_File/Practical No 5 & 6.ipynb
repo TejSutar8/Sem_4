{
 "cells": [
  {
   "cell_type": "raw",
   "id": "c9331360-cb49-428e-807d-6a3b6be90b54",
   "metadata": {},
   "source": [
    "Name - Tej Santosh Sutar\n",
    "Roll No. 176\n",
    "std -SY Bsc(CS)\n",
    "Batch - H\n",
    "Date 18  /01/2025\n",
    "Practical 5 & 6: Application of Computational Geometry"
   ]
  },
  {
   "cell_type": "raw",
   "id": "30d1fb24-9616-453b-b1f4-54d66a77da86",
   "metadata": {},
   "source": [
    "Section-A"
   ]
  },
  {
   "cell_type": "raw",
   "id": "88711ff6-d2d6-4239-934c-93028f089d14",
   "metadata": {},
   "source": [
    "1) Write a python program to rotate the point (𝟐, 𝟐) by an angle of 45`\n",
    "in the clockwise sense."
   ]
  },
  {
   "cell_type": "code",
   "execution_count": 1,
   "id": "2834234c-fd34-4768-ab61-ad3912443931",
   "metadata": {},
   "outputs": [
    {
     "data": {
      "text/latex": [
       "$\\displaystyle \\operatorname{Point2D}\\left(2 \\sqrt{2}, 0\\right)$"
      ],
      "text/plain": [
       "Point2D(2*sqrt(2), 0)"
      ]
     },
     "execution_count": 1,
     "metadata": {},
     "output_type": "execute_result"
    }
   ],
   "source": [
    "from sympy import*\n",
    "P=Point(2,2)\n",
    "P.rotate(-pi/4)"
   ]
  },
  {
   "cell_type": "raw",
   "id": "daaf56ee-2ca6-4fb0-96f2-55679bfa42ee",
   "metadata": {},
   "source": [
    "2) Write a python program to reflect the point (𝟑, 𝟑) through the 𝒙 𝒂𝒏𝒅 𝒚 − 𝒂𝒙𝒆𝒔 respectively."
   ]
  },
  {
   "cell_type": "code",
   "execution_count": 5,
   "id": "a6df3b72-2bf7-4c9f-a3a0-686375471526",
   "metadata": {},
   "outputs": [
    {
     "data": {
      "text/latex": [
       "$\\displaystyle \\operatorname{Point2D}\\left(-3, -3\\right)$"
      ],
      "text/plain": [
       "Point2D(-3, -3)"
      ]
     },
     "execution_count": 5,
     "metadata": {},
     "output_type": "execute_result"
    }
   ],
   "source": [
    "from sympy import*\n",
    "P=Point(3,3)\n",
    "P.transform(Matrix([[-1,0,0],[0,-1,0],[0,0,1]]))"
   ]
  },
  {
   "cell_type": "raw",
   "id": "b6fc6d44-1b82-41a6-8fe4-e04f3e39b7b6",
   "metadata": {},
   "source": [
    "3) Write a python program to rotate the point (𝟏, 𝟎) by an angle of 𝟗𝟎𝟎\n",
    "in the anticlockwise sense."
   ]
  },
  {
   "cell_type": "code",
   "execution_count": 7,
   "id": "391ccd3c-755d-4127-a834-94821ca89022",
   "metadata": {},
   "outputs": [
    {
     "data": {
      "text/latex": [
       "$\\displaystyle \\operatorname{Point2D}\\left(0, 1\\right)$"
      ],
      "text/plain": [
       "Point2D(0, 1)"
      ]
     },
     "execution_count": 7,
     "metadata": {},
     "output_type": "execute_result"
    }
   ],
   "source": [
    "from sympy import*\n",
    "P=Point(1,0)\n",
    "P.rotate(pi/2)"
   ]
  },
  {
   "cell_type": "raw",
   "id": "6efc4119-5054-4067-b28d-22be27c83f83",
   "metadata": {},
   "source": [
    "4) Write a python program to reflect the point (𝟏, 𝟏) through the origin."
   ]
  },
  {
   "cell_type": "code",
   "execution_count": 9,
   "id": "4a1e2946-c38c-4407-bdb8-eec7cec03212",
   "metadata": {},
   "outputs": [
    {
     "data": {
      "text/latex": [
       "$\\displaystyle \\operatorname{Point2D}\\left(-1, -1\\right)$"
      ],
      "text/plain": [
       "Point2D(-1, -1)"
      ]
     },
     "execution_count": 9,
     "metadata": {},
     "output_type": "execute_result"
    }
   ],
   "source": [
    "from sympy import*\n",
    "P=Point(1,1)\n",
    "P.transform(Matrix([[-1,0,0],[0,-1,0],[0,0,1]]))"
   ]
  },
  {
   "cell_type": "raw",
   "id": "d07ce400-2111-48e6-a94e-ffdca0863f63",
   "metadata": {},
   "source": [
    "Section-B"
   ]
  },
  {
   "cell_type": "raw",
   "id": "3a05c67b-e1f2-4c9c-84df-f0ecef9bde7c",
   "metadata": {},
   "source": [
    "1) Write a Python program to reflect the line segment joining the points A[5,3] and B[1,4] through the \n",
    "line y = x + 1. "
   ]
  },
  {
   "cell_type": "code",
   "execution_count": 15,
   "id": "0140a149-9231-4d28-9817-d3a12b16a593",
   "metadata": {},
   "outputs": [
    {
     "data": {
      "image/svg+xml": [
       "<svg xmlns=\"http://www.w3.org/2000/svg\"\n",
       "            xmlns:xlink=\"http://www.w3.org/1999/xlink\"\n",
       "            width=\"100.0\" height=\"100.0\" viewBox=\"1.60000000000000 1.60000000000000 1.80000000000000 4.80000000000000\"\n",
       "            preserveAspectRatio=\"xMinYMin meet\">\n",
       "            <defs>\n",
       "                <marker id=\"markerCircle\" markerWidth=\"8\" markerHeight=\"8\"\n",
       "                    refx=\"5\" refy=\"5\" markerUnits=\"strokeWidth\">\n",
       "                    <circle cx=\"5\" cy=\"5\" r=\"1.5\" style=\"stroke: none; fill:#000000;\"/>\n",
       "                </marker>\n",
       "                <marker id=\"markerArrow\" markerWidth=\"13\" markerHeight=\"13\" refx=\"2\" refy=\"4\"\n",
       "                       orient=\"auto\" markerUnits=\"strokeWidth\">\n",
       "                    <path d=\"M2,2 L2,6 L6,4\" style=\"fill: #000000;\" />\n",
       "                </marker>\n",
       "                <marker id=\"markerReverseArrow\" markerWidth=\"13\" markerHeight=\"13\" refx=\"6\" refy=\"4\"\n",
       "                       orient=\"auto\" markerUnits=\"strokeWidth\">\n",
       "                    <path d=\"M6,2 L6,6 L2,4\" style=\"fill: #000000;\" />\n",
       "                </marker>\n",
       "            </defs><g transform=\"matrix(1,0,0,-1,0,8.00000000000000)\"><path fill-rule=\"evenodd\" fill=\"#66cc99\" stroke=\"#555555\" stroke-width=\"0.0960000000000000\" opacity=\"0.6\" d=\"M 2.00000000000000,6.00000000000000 L 3.00000000000000,2.00000000000000\" /></g></svg>"
      ],
      "text/latex": [
       "$\\displaystyle \\operatorname{Segment2D}\\left(\\operatorname{Point2D}\\left(2, 6\\right), \\operatorname{Point2D}\\left(3, 2\\right)\\right)$"
      ],
      "text/plain": [
       "Segment2D(Point2D(2, 6), Point2D(3, 2))"
      ]
     },
     "execution_count": 15,
     "metadata": {},
     "output_type": "execute_result"
    }
   ],
   "source": [
    "from sympy import*\n",
    "A=Point(5,3)\n",
    "B=Point(1,4)\n",
    "S=Segment(A,B)\n",
    "x,y=symbols('x,y')\n",
    "S.reflect(Line(x-y+1))"
   ]
  },
  {
   "cell_type": "raw",
   "id": "5798512b-254a-4c7b-9c12-4f87dba4c1c1",
   "metadata": {},
   "source": [
    "2) Using python, generate line passing through points (2,3) and (4,3) and find equation of the line."
   ]
  },
  {
   "cell_type": "code",
   "execution_count": 13,
   "id": "22c54d2f-096c-40e9-8cd9-c10c53fd06cd",
   "metadata": {},
   "outputs": [
    {
     "data": {
      "text/latex": [
       "$\\displaystyle y - 3$"
      ],
      "text/plain": [
       "y - 3"
      ]
     },
     "execution_count": 13,
     "metadata": {},
     "output_type": "execute_result"
    }
   ],
   "source": [
    "from sympy import*\n",
    "A=Point(2,3)\n",
    "B=Point(4,3)\n",
    "L=Line(A,B)\n",
    "L.equation()"
   ]
  },
  {
   "cell_type": "raw",
   "id": "1215adbc-e81a-4cbc-8c37-970cc41eec5c",
   "metadata": {},
   "source": [
    "3) Generate line segment having endpoints (0,0) and (10,10) find midpoint of line segment."
   ]
  },
  {
   "cell_type": "code",
   "execution_count": 17,
   "id": "c5c8f2b2-c418-4f3f-bf0a-e7c20db31bb4",
   "metadata": {},
   "outputs": [
    {
     "data": {
      "text/latex": [
       "$\\displaystyle \\operatorname{Point2D}\\left(5, 5\\right)$"
      ],
      "text/plain": [
       "Point2D(5, 5)"
      ]
     },
     "execution_count": 17,
     "metadata": {},
     "output_type": "execute_result"
    }
   ],
   "source": [
    "from sympy import*\n",
    "A=Point(0,0)\n",
    "B=Point(10,10)\n",
    "S=Segment(A,B)\n",
    "S.midpoint"
   ]
  },
  {
   "cell_type": "raw",
   "id": "a332add8-447a-41af-b95b-519adad2ccfd",
   "metadata": {},
   "source": [
    "4) Write a python program to rotate the line segment by 180 degrees having end points (1,0) and (2,−1)."
   ]
  },
  {
   "cell_type": "code",
   "execution_count": 19,
   "id": "89bcc51b-07f2-421e-997f-267a8d3f726b",
   "metadata": {},
   "outputs": [
    {
     "data": {
      "image/svg+xml": [
       "<svg xmlns=\"http://www.w3.org/2000/svg\"\n",
       "            xmlns:xlink=\"http://www.w3.org/1999/xlink\"\n",
       "            width=\"100.0\" height=\"100.0\" viewBox=\"-2.10000000000000 -0.100000000000000 1.20000000000000 1.20000000000000\"\n",
       "            preserveAspectRatio=\"xMinYMin meet\">\n",
       "            <defs>\n",
       "                <marker id=\"markerCircle\" markerWidth=\"8\" markerHeight=\"8\"\n",
       "                    refx=\"5\" refy=\"5\" markerUnits=\"strokeWidth\">\n",
       "                    <circle cx=\"5\" cy=\"5\" r=\"1.5\" style=\"stroke: none; fill:#000000;\"/>\n",
       "                </marker>\n",
       "                <marker id=\"markerArrow\" markerWidth=\"13\" markerHeight=\"13\" refx=\"2\" refy=\"4\"\n",
       "                       orient=\"auto\" markerUnits=\"strokeWidth\">\n",
       "                    <path d=\"M2,2 L2,6 L6,4\" style=\"fill: #000000;\" />\n",
       "                </marker>\n",
       "                <marker id=\"markerReverseArrow\" markerWidth=\"13\" markerHeight=\"13\" refx=\"6\" refy=\"4\"\n",
       "                       orient=\"auto\" markerUnits=\"strokeWidth\">\n",
       "                    <path d=\"M6,2 L6,6 L2,4\" style=\"fill: #000000;\" />\n",
       "                </marker>\n",
       "            </defs><g transform=\"matrix(1,0,0,-1,0,1.00000000000000)\"><path fill-rule=\"evenodd\" fill=\"#66cc99\" stroke=\"#555555\" stroke-width=\"0.0240000000000000\" opacity=\"0.6\" d=\"M -1.00000000000000,0 L -2.00000000000000,1.00000000000000\" /></g></svg>"
      ],
      "text/latex": [
       "$\\displaystyle \\operatorname{Segment2D}\\left(\\operatorname{Point2D}\\left(-1, 0\\right), \\operatorname{Point2D}\\left(-2, 1\\right)\\right)$"
      ],
      "text/plain": [
       "Segment2D(Point2D(-1, 0), Point2D(-2, 1))"
      ]
     },
     "execution_count": 19,
     "metadata": {},
     "output_type": "execute_result"
    }
   ],
   "source": [
    "from sympy import*\n",
    "A=Point(1,0)\n",
    "B=Point(2,-1)\n",
    "S=Segment(A,B)\n",
    "S.rotate(pi)"
   ]
  },
  {
   "cell_type": "raw",
   "id": "ce1a45cb-922f-4d11-86f3-38be739da5ac",
   "metadata": {},
   "source": [
    "5) Write a Python program to Reflect the Point P[3,6] through the line x−2y + 4 = 0"
   ]
  },
  {
   "cell_type": "code",
   "execution_count": 39,
   "id": "8e6e7f74-8669-4ce6-b4df-7483cf13701e",
   "metadata": {},
   "outputs": [
    {
     "data": {
      "text/latex": [
       "$\\displaystyle \\operatorname{Point2D}\\left(5, 2\\right)$"
      ],
      "text/plain": [
       "Point2D(5, 2)"
      ]
     },
     "execution_count": 39,
     "metadata": {},
     "output_type": "execute_result"
    }
   ],
   "source": [
    "from sympy import*\n",
    "P=Point(3,6)\n",
    "x,y=symbols('x y')\n",
    "P.reflect(Line(x-2*y+4))"
   ]
  }
 ],
 "metadata": {
  "kernelspec": {
   "display_name": "Python 3 (ipykernel)",
   "language": "python",
   "name": "python3"
  },
  "language_info": {
   "codemirror_mode": {
    "name": "ipython",
    "version": 3
   },
   "file_extension": ".py",
   "mimetype": "text/x-python",
   "name": "python",
   "nbconvert_exporter": "python",
   "pygments_lexer": "ipython3",
   "version": "3.12.4"
  }
 },
 "nbformat": 4,
 "nbformat_minor": 5
}
